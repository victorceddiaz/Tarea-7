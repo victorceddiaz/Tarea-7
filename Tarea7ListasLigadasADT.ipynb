{
  "nbformat": 4,
  "nbformat_minor": 0,
  "metadata": {
    "colab": {
      "name": "Tarea7ListasLigadasADT.ipynb",
      "provenance": [],
      "authorship_tag": "ABX9TyOPpmezlSveLxWKJ+3PNCmi",
      "include_colab_link": true
    },
    "kernelspec": {
      "name": "python3",
      "display_name": "Python 3"
    },
    "language_info": {
      "name": "python"
    }
  },
  "cells": [
    {
      "cell_type": "markdown",
      "metadata": {
        "id": "view-in-github",
        "colab_type": "text"
      },
      "source": [
        "<a href=\"https://colab.research.google.com/github/victorceddiaz/Tarea-7/blob/main/Tarea7ListasLigadasADT.ipynb\" target=\"_parent\"><img src=\"https://colab.research.google.com/assets/colab-badge.svg\" alt=\"Open In Colab\"/></a>"
      ]
    },
    {
      "cell_type": "markdown",
      "metadata": {
        "id": "USKlnAHgmWw7"
      },
      "source": [
        "##Tarea 7. Listas Ligadas\n",
        "\n",
        "\n",
        "Alumno: Cedillo Díaz Victor Antonio \n",
        "\n",
        "Grupo: 1310\n",
        "\n",
        "Materia: Estructura de Datos"
      ]
    },
    {
      "cell_type": "code",
      "metadata": {
        "id": "xWuhHzV2mLof"
      },
      "source": [
        "class Nodo :\n",
        "    def __init__(self, value, siguiente = None) :\n",
        "        self.data = value\n",
        "        self.next = siguiente"
      ],
      "execution_count": 1,
      "outputs": []
    },
    {
      "cell_type": "code",
      "metadata": {
        "id": "mQJqVeoZmgAl"
      },
      "source": [
        "class LinkedList :\n",
        "    def __init__(self) :\n",
        "        self.head = None\n",
        "\n",
        "    def is_empty(self) :\n",
        "        return self.head == None\n",
        "\n",
        "    def get_tail(self) :\n",
        "        if self.is_empty() :\n",
        "            return None\n",
        "        else : \n",
        "            curr_node=self.head\n",
        "            while curr_node.next != None:\n",
        "                curr_node=curr_node.next\n",
        "            return curr_node\n",
        "\n",
        "    def append(self, value) : \n",
        "        if self.head == None :\n",
        "            self.head = Nodo(value)\n",
        "        else :\n",
        "            curr_node=self.head\n",
        "            while curr_node.next != None:\n",
        "                curr_node=curr_node.next    \n",
        "            curr_node.next = Nodo(value)\n",
        "\n",
        "    def prepend(self, value) :\n",
        "        if self.head == None :\n",
        "            print(\"Lista vacía, no se puede hacer prepend.\")\n",
        "        else :\n",
        "            self.head= Nodo(value, self.head)\n",
        "    \n",
        "    def transversal(self) : \n",
        "        curr_node=self.head\n",
        "        while curr_node != None :\n",
        "            print(f'| {curr_node.data} | -->', end=\"\")\n",
        "            curr_node = curr_node.next\n",
        "        print(\"\")\n",
        "\n",
        "    def remove(self, value) :\n",
        "        if self.head == None :\n",
        "            print(\"Lista vacía, no se puede remover nada.\")\n",
        "        else :\n",
        "            curr_node=self.head\n",
        "            aux = None\n",
        "            while curr_node.data != value :\n",
        "                aux= curr_node\n",
        "                curr_node=curr_node.next\n",
        "            if curr_node != None :\n",
        "                aux.next = curr_node.next\n",
        "                curr_node = None\n",
        "\n",
        "    def pop(self) :\n",
        "        if self.head == None :\n",
        "            print(\"Lista vacía, no se puede devolver un último elemento.\")\n",
        "        else :\n",
        "            curr_node=self.head\n",
        "            aux = None\n",
        "            while curr_node.next != None:\n",
        "                aux= curr_node\n",
        "                curr_node=curr_node.next\n",
        "            aux.next = None\n",
        "            return curr_node.data\n",
        "\n",
        "    def pop_first(self) :\n",
        "        if self.head == None :\n",
        "            print(\"Lista vacía, no se puede sacar el primer elemento.\")\n",
        "        else :\n",
        "            curr_node = self.head\n",
        "            self.head = curr_node.next\n",
        "            return curr_node.data"
      ],
      "execution_count": 2,
      "outputs": []
    },
    {
      "cell_type": "code",
      "metadata": {
        "colab": {
          "base_uri": "https://localhost:8080/"
        },
        "id": "w9knCA7YmklC",
        "outputId": "e22f47be-496b-4829-8733-86b669b8b63f"
      },
      "source": [
        "lista= LinkedList()\n",
        "if lista.is_empty() :\n",
        "    print(\"Lista vacía\")\n",
        "else :\n",
        "    print(\"Lista no vacía\")\n",
        "\n",
        "print(\"\")\n",
        "lista.append(10)\n",
        "lista.append(20)\n",
        "lista.append(30)\n",
        "lista.append(40)\n",
        "lista.append(50)\n",
        "lista.append(60)\n",
        "\n",
        "print(\"Tail\")\n",
        "nodo=lista.get_tail()\n",
        "if nodo != None :\n",
        "    print(nodo.data)\n",
        "else :\n",
        "    print(\"Lista vacía\")\n",
        "\n",
        "print(\"\\nTransversal\")\n",
        "lista.transversal()\n",
        "\n",
        "print(\"\\nRemove\")\n",
        "lista.remove(40)\n",
        "lista.transversal()\n",
        "\n",
        "print(\"\\nPrepend\")\n",
        "lista.prepend(5)\n",
        "lista.transversal()\n",
        "\n",
        "print(\"\\npop_first\")\n",
        "print(f'Elemento eliminado : | {lista.pop_first()} | ')\n",
        "lista.transversal()\n",
        "\n",
        "print(\"\\npop\")\n",
        "print(f'Elemento eliminado : | {lista.pop()} | ')\n",
        "lista.transversal()"
      ],
      "execution_count": 3,
      "outputs": [
        {
          "output_type": "stream",
          "name": "stdout",
          "text": [
            "Lista vacía\n",
            "\n",
            "Tail\n",
            "60\n",
            "\n",
            "Transversal\n",
            "| 10 | -->| 20 | -->| 30 | -->| 40 | -->| 50 | -->| 60 | -->\n",
            "\n",
            "Remove\n",
            "| 10 | -->| 20 | -->| 30 | -->| 50 | -->| 60 | -->\n",
            "\n",
            "Prepend\n",
            "| 5 | -->| 10 | -->| 20 | -->| 30 | -->| 50 | -->| 60 | -->\n",
            "\n",
            "pop_first\n",
            "Elemento eliminado : | 5 | \n",
            "| 10 | -->| 20 | -->| 30 | -->| 50 | -->| 60 | -->\n",
            "\n",
            "pop\n",
            "Elemento eliminado : | 60 | \n",
            "| 10 | -->| 20 | -->| 30 | -->| 50 | -->\n"
          ]
        }
      ]
    }
  ]
}